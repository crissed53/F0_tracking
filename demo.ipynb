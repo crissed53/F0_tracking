{
 "cells": [
  {
   "cell_type": "code",
   "execution_count": null,
   "metadata": {
    "pycharm": {
     "name": "#%%\n"
    },
    "scrolled": false
   },
   "outputs": [
    {
     "name": "stderr",
     "output_type": "stream",
     "text": [
      " 97%|█████████▋| 65/67 [00:11<00:00,  5.92it/s]"
     ]
    }
   ],
   "source": [
    "from evaluate import f0_tracking_demo\n",
    "\n",
    "\n",
    "audio_path = '/Users/crissed-laptop/Projects/cover-song-detection-prototype/tmp/yt_song_resources/Fireflies_Owl_city/Fireflies_Owl_city_o.wav'\n",
    "start_t = 50\n",
    "end_t = 70\n",
    "thres = 0.1\n",
    "window_len = 5\n",
    "frame_hop = 25\n",
    "f0_tracking_demo(audio_path, start_t, end_t, thres=thres, window_len=window_len, frame_hop=frame_hop)"
   ]
  },
  {
   "cell_type": "code",
   "execution_count": null,
   "metadata": {},
   "outputs": [],
   "source": []
  }
 ],
 "metadata": {
  "kernelspec": {
   "display_name": "Python 3",
   "language": "python",
   "name": "python3"
  },
  "language_info": {
   "codemirror_mode": {
    "name": "ipython",
    "version": 3
   },
   "file_extension": ".py",
   "mimetype": "text/x-python",
   "name": "python",
   "nbconvert_exporter": "python",
   "pygments_lexer": "ipython3",
   "version": "3.7.7"
  },
  "pycharm": {
   "stem_cell": {
    "cell_type": "raw",
    "metadata": {
     "collapsed": false
    },
    "source": []
   }
  }
 },
 "nbformat": 4,
 "nbformat_minor": 1
}
